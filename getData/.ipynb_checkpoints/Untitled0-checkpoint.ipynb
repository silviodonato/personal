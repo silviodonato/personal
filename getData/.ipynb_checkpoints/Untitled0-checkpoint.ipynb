{
 "metadata": {
  "name": "",
  "signature": "sha256:da04bc2e56f3cd000c1503c2a303398b96cba924b34ea9d491c7df7603f2ae94"
 },
 "nbformat": 3,
 "nbformat_minor": 0,
 "worksheets": []
}